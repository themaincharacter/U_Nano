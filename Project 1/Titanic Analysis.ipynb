{
 "cells": [
  {
   "cell_type": "markdown",
   "metadata": {},
   "source": [
    "## Titanic Data Analysis\n",
    "\n",
    "The data set is provided by Kaggle (https://www.kaggle.com/c/titanic/data) it is important to note that the dataset contains demographics and passenger information from 891 of the 2224 passengers and crew on board the Titanic. So our working sample size covers 40% of the population, the total recorded passengers on board.\n",
    "\n",
    "## Questions\n",
    "Is there a noticable difference from the port in which passengers embarked from? If there is a disparity which passengers fared better and possibly why?\n",
    "\n",
    "\n",
    "## The Data"
   ]
  },
  {
   "cell_type": "code",
   "execution_count": 320,
   "metadata": {},
   "outputs": [
    {
     "data": {
      "text/html": [
       "<div>\n",
       "<style>\n",
       "    .dataframe thead tr:only-child th {\n",
       "        text-align: right;\n",
       "    }\n",
       "\n",
       "    .dataframe thead th {\n",
       "        text-align: left;\n",
       "    }\n",
       "\n",
       "    .dataframe tbody tr th {\n",
       "        vertical-align: top;\n",
       "    }\n",
       "</style>\n",
       "<table border=\"1\" class=\"dataframe\">\n",
       "  <thead>\n",
       "    <tr style=\"text-align: right;\">\n",
       "      <th></th>\n",
       "      <th>PassengerId</th>\n",
       "      <th>Survived</th>\n",
       "      <th>Pclass</th>\n",
       "      <th>Name</th>\n",
       "      <th>Sex</th>\n",
       "      <th>Age</th>\n",
       "      <th>SibSp</th>\n",
       "      <th>Parch</th>\n",
       "      <th>Ticket</th>\n",
       "      <th>Fare</th>\n",
       "      <th>Cabin</th>\n",
       "      <th>Embarked</th>\n",
       "    </tr>\n",
       "  </thead>\n",
       "  <tbody>\n",
       "    <tr>\n",
       "      <th>0</th>\n",
       "      <td>1</td>\n",
       "      <td>0</td>\n",
       "      <td>3</td>\n",
       "      <td>Braund, Mr. Owen Harris</td>\n",
       "      <td>male</td>\n",
       "      <td>22.0</td>\n",
       "      <td>1</td>\n",
       "      <td>0</td>\n",
       "      <td>A/5 21171</td>\n",
       "      <td>7.2500</td>\n",
       "      <td>NaN</td>\n",
       "      <td>S</td>\n",
       "    </tr>\n",
       "    <tr>\n",
       "      <th>1</th>\n",
       "      <td>2</td>\n",
       "      <td>1</td>\n",
       "      <td>1</td>\n",
       "      <td>Cumings, Mrs. John Bradley (Florence Briggs Th...</td>\n",
       "      <td>female</td>\n",
       "      <td>38.0</td>\n",
       "      <td>1</td>\n",
       "      <td>0</td>\n",
       "      <td>PC 17599</td>\n",
       "      <td>71.2833</td>\n",
       "      <td>C85</td>\n",
       "      <td>C</td>\n",
       "    </tr>\n",
       "    <tr>\n",
       "      <th>2</th>\n",
       "      <td>3</td>\n",
       "      <td>1</td>\n",
       "      <td>3</td>\n",
       "      <td>Heikkinen, Miss. Laina</td>\n",
       "      <td>female</td>\n",
       "      <td>26.0</td>\n",
       "      <td>0</td>\n",
       "      <td>0</td>\n",
       "      <td>STON/O2. 3101282</td>\n",
       "      <td>7.9250</td>\n",
       "      <td>NaN</td>\n",
       "      <td>S</td>\n",
       "    </tr>\n",
       "    <tr>\n",
       "      <th>3</th>\n",
       "      <td>4</td>\n",
       "      <td>1</td>\n",
       "      <td>1</td>\n",
       "      <td>Futrelle, Mrs. Jacques Heath (Lily May Peel)</td>\n",
       "      <td>female</td>\n",
       "      <td>35.0</td>\n",
       "      <td>1</td>\n",
       "      <td>0</td>\n",
       "      <td>113803</td>\n",
       "      <td>53.1000</td>\n",
       "      <td>C123</td>\n",
       "      <td>S</td>\n",
       "    </tr>\n",
       "    <tr>\n",
       "      <th>4</th>\n",
       "      <td>5</td>\n",
       "      <td>0</td>\n",
       "      <td>3</td>\n",
       "      <td>Allen, Mr. William Henry</td>\n",
       "      <td>male</td>\n",
       "      <td>35.0</td>\n",
       "      <td>0</td>\n",
       "      <td>0</td>\n",
       "      <td>373450</td>\n",
       "      <td>8.0500</td>\n",
       "      <td>NaN</td>\n",
       "      <td>S</td>\n",
       "    </tr>\n",
       "  </tbody>\n",
       "</table>\n",
       "</div>"
      ],
      "text/plain": [
       "   PassengerId  Survived  Pclass  \\\n",
       "0            1         0       3   \n",
       "1            2         1       1   \n",
       "2            3         1       3   \n",
       "3            4         1       1   \n",
       "4            5         0       3   \n",
       "\n",
       "                                                Name     Sex   Age  SibSp  \\\n",
       "0                            Braund, Mr. Owen Harris    male  22.0      1   \n",
       "1  Cumings, Mrs. John Bradley (Florence Briggs Th...  female  38.0      1   \n",
       "2                             Heikkinen, Miss. Laina  female  26.0      0   \n",
       "3       Futrelle, Mrs. Jacques Heath (Lily May Peel)  female  35.0      1   \n",
       "4                           Allen, Mr. William Henry    male  35.0      0   \n",
       "\n",
       "   Parch            Ticket     Fare Cabin Embarked  \n",
       "0      0         A/5 21171   7.2500   NaN        S  \n",
       "1      0          PC 17599  71.2833   C85        C  \n",
       "2      0  STON/O2. 3101282   7.9250   NaN        S  \n",
       "3      0            113803  53.1000  C123        S  \n",
       "4      0            373450   8.0500   NaN        S  "
      ]
     },
     "execution_count": 320,
     "metadata": {},
     "output_type": "execute_result"
    }
   ],
   "source": [
    "#show plots inline\n",
    "%matplotlib inline\n",
    "\n",
    "# Import libraries\n",
    "import pandas as pd\n",
    "import numpy as np\n",
    "import matplotlib.pyplot as plt\n",
    "import seaborn as sns\n",
    "\n",
    "# Read in the dataset, create dataframe\n",
    "titanic_data = pd.read_csv('titanic-data.csv')\n",
    "\n",
    "# A preview of the data we will be looking at\n",
    "titanic_data.head()"
   ]
  },
  {
   "cell_type": "markdown",
   "metadata": {},
   "source": [
    "\n",
    "### Data Definitions\n",
    "\n",
    "|Variable|\tDefinition|\n",
    "|--------|------------|\n",
    "|survival|\tSurvival|\t\n",
    "|pclass\t|Ticket class|\n",
    "|sex\t|Sex\t|\n",
    "|Age\t|Age in years|\t\n",
    "|sibsp\t|# of siblings / spouses aboard the Titanic\t|\n",
    "|parch\t|# of parents / children aboard the Titanic\t|\n",
    "|ticket\t|Ticket number\t|\n",
    "|fare\t|Passenger fare\t|\n",
    "|cabin\t|Cabin number\t|\n",
    "|embarked|\tPort of Embarkation\t|\n",
    "\n",
    "Key\n",
    "* 0 = No, 1 = Yes\n",
    "* 1 = 1st, 2 = 2nd, 3 = 3rd\n",
    "* C = Cherbourg, Q = Queenstown, S = Southampton\n",
    "\n",
    "### Variable Notes\n",
    "\n",
    "pclass: A proxy for socio-economic status (SES)\n",
    "* 1st = Upper\n",
    "* 2nd = Middle\n",
    "* 3rd = Lower\n",
    "\n",
    "age: Age is fractional if less than 1. If the age is estimated, is it in the form of xx.5\n",
    "\n",
    "sibsp: The dataset defines family relations in this way...\n",
    "* Sibling = brother, sister, stepbrother, stepsister\n",
    "* Spouse = husband, wife (mistresses and fiancés were ignored)\n",
    "\n",
    "parch: The dataset defines family relations in this way...\n",
    "* Parent = mother, father\n",
    "* Child = daughter, son, stepdaughter, stepson\n",
    "Some children travelled only with a nanny, therefore parch=0 for them."
   ]
  },
  {
   "cell_type": "markdown",
   "metadata": {},
   "source": [
    "## Data Wrangling"
   ]
  },
  {
   "cell_type": "code",
   "execution_count": 326,
   "metadata": {},
   "outputs": [
    {
     "name": "stdout",
     "output_type": "stream",
     "text": [
      "All of the below should be zero\n",
      "0\n",
      "0\n",
      "0\n",
      "0\n",
      "2\n"
     ]
    }
   ],
   "source": [
    "## Rename Embarked labels for better readability\n",
    "titanic_data[\"Embarked\"].replace({'C': \"Cherbourg\", \"S\":\"Southampton\", \"Q\":\"Queenstown\"}, inplace=True)\n",
    "\n",
    "\n",
    "print(\"All of the below should be zero\")\n",
    "## Check for duplicate data\n",
    "print(titanic_data.duplicated().sum())\n",
    "\n",
    "## check for missing values in columns relavent to our question\n",
    "survived_check = titanic_data.loc[(titanic_data[\"Survived\"] != 1) &( titanic_data[\"Survived\"] != 0)]\n",
    "print(len(survived_check))\n",
    "class_check = titanic_data.loc[(titanic_data[\"Pclass\"] != 1) &( titanic_data[\"Pclass\"] != 2) & (titanic_data[\"Pclass\"] != 3)]\n",
    "print(len(class_check))\n",
    "fare_check = titanic_data.loc[(titanic_data[\"Fare\"] == None) | (np.isnan(titanic_data[\"Fare\"]))]\n",
    "print(len(fare_check))\n",
    "embarked_check = titanic_data.loc[titanic_data[\"Embarked\"].isnull()]\n",
    "print(len(embarked_check))\n"
   ]
  },
  {
   "cell_type": "markdown",
   "metadata": {},
   "source": [
    "Nothing to dedupe since there are no duplicate values.\n",
    "However, note that the embarked column has two null rows which we need for our question so let's remove those two rows from the dataset."
   ]
  },
  {
   "cell_type": "code",
   "execution_count": 327,
   "metadata": {},
   "outputs": [
    {
     "name": "stdout",
     "output_type": "stream",
     "text": [
      "0\n"
     ]
    }
   ],
   "source": [
    "titanic_data.dropna(subset=['Embarked'], how='all', inplace=True)\n",
    "#Verify null embarked rows are removed\n",
    "embarked_check = titanic_data.loc[titanic_data[\"Embarked\"].isnull()]\n",
    "print(len(embarked_check))\n"
   ]
  },
  {
   "cell_type": "markdown",
   "metadata": {},
   "source": [
    "## Question: Is there a noticable difference from the port in which passengers embarked from? If there is a disparity which passengers fared better and possibly why?\n",
    "\n",
    "To start lets group the data by the port embarked and investigate the result for any noticable patterns."
   ]
  },
  {
   "cell_type": "code",
   "execution_count": 328,
   "metadata": {},
   "outputs": [
    {
     "name": "stdout",
     "output_type": "stream",
     "text": [
      "             Survived    Pclass       Fare\n",
      "Embarked                                  \n",
      "Cherbourg    0.553571  1.886905  59.954144\n",
      "Queenstown   0.389610  2.909091  13.276030\n",
      "Southampton  0.336957  2.350932  27.079812\n",
      "\n",
      "\n",
      "Total Size:Embarked\n",
      "Cherbourg      168\n",
      "Queenstown      77\n",
      "Southampton    644\n",
      "dtype: int64\n"
     ]
    }
   ],
   "source": [
    "# Create seperate groups for each port\n",
    "grouped_by_port = titanic_data.groupby(\"Embarked\")\n",
    "\n",
    "\n",
    "#get the means for relavent columns by port\n",
    "means = grouped_by_port[\"Survived\", \"Pclass\", \"Fare\"].mean()\n",
    "\n",
    "print(means)\n",
    "print(\"\\n\")\n",
    "# good to know the size of the data we are working with\n",
    "print(\"Total Size:\" + str(grouped_by_port.size()))\n"
   ]
  },
  {
   "cell_type": "markdown",
   "metadata": {},
   "source": [
    "In the first output we have the mean number of survivers, socio economic class, and fare paid. A mean survival rate closer to 1 implies there were more survivors than casualties. For passenger class we have passengers split into three categories: 1 Upper, 2 Middle, and 3 Lower. So a mean close to 3, like for Queenstown, would imply there are a lot more lower class passengers embarking from here than the other two classes. For fare this would be the average ticket price paid by passengers from each port. \n",
    "\n",
    "There are some interesting points about this data that we can look into a bit but first lets also note the\n",
    "difference in the sizes of the ports passengers we are comparing. From this sample size it seems that more passengers embarked from Southampton than both Queenstown and Cherbourg combined.\n",
    "\n"
   ]
  },
  {
   "cell_type": "code",
   "execution_count": 330,
   "metadata": {},
   "outputs": [
    {
     "data": {
      "image/png": "[encoded data removed]",
      "text/plain": [
       "<matplotlib.figure.Figure at 0x128b87588>"
      ]
     },
     "metadata": {},
     "output_type": "display_data"
    },
    {
     "data": {
      "image/png": "[encoded data removed]",
      "text/plain": [
       "<matplotlib.figure.Figure at 0x1283c1390>"
      ]
     },
     "metadata": {},
     "output_type": "display_data"
    },
    {
     "data": {
      "image/png": "[encoded data removed]",
      "text/plain": [
       "<matplotlib.figure.Figure at 0x128dd8080>"
      ]
     },
     "metadata": {},
     "output_type": "display_data"
    },
    {
     "data": {
      "text/plain": [
       "<matplotlib.legend.Legend at 0x128cb7588>"
      ]
     },
     "execution_count": 330,
     "metadata": {},
     "output_type": "execute_result"
    },
    {
     "data": {
      "image/png": "[encoded data removed]",
      "text/plain": [
       "<matplotlib.figure.Figure at 0x1292081d0>"
      ]
     },
     "metadata": {},
     "output_type": "display_data"
    }
   ],
   "source": [
    "sizes = grouped_by_port.get_group(\"Cherbourg\")[\"Pclass\"].value_counts(sort=False,ascending=True)\n",
    "labels = [\"1: Upper\", \"2: Middle\", \"3: Lower\"]\n",
    "plt.pie(sizes, shadow=True, autopct='%1.1f%%' )\n",
    "plt.axis(\"equal\")\n",
    "plt.title(\"Cherbourg Socio-Economic Status Distribution\")\n",
    "plt.legend( labels=['%s, %1.1i' % (l, s) for l, s in zip(labels, sizes)])\n",
    "plt.show()\n",
    "\n",
    "sizes = grouped_by_port.get_group(\"Queenstown\")[\"Pclass\"].value_counts(sort=False,ascending=True)\n",
    "plt.pie(sizes, shadow=True, autopct='%1.1f%%' )\n",
    "plt.axis(\"equal\")\n",
    "plt.legend( labels=['%s, %1.1i' % (l, s) for l, s in zip(labels, sizes)])\n",
    "plt.title(\"Queenstown Socio-Economic Status Distribution\")\n",
    "plt.show()\n",
    "\n",
    "sizes = grouped_by_port.get_group(\"Southampton\")[\"Pclass\"].value_counts(sort=False,ascending=True)\n",
    "plt.pie(sizes, shadow=True, autopct='%1.1f%%' )\n",
    "plt.axis(\"equal\")\n",
    "plt.title(\"Southampton Socio-Economic Status Distribution\")\n",
    "plt.legend( labels=['%s, %1i ' % (l, s) for l, s in zip(labels, sizes)])\n",
    "plt.show()\n",
    "\n",
    "# sns.barplot(x=\"Embarked\", y=\"Pclass\", data=titanic_data)\n",
    "table = pd.crosstab(titanic_data[\"Embarked\"], titanic_data[\"Pclass\"])\n",
    "ax = table.plot.bar(stacked=True)\n",
    "ax.set(title=\"Passenger count by port\", xlabel=\"Port\", ylabel=\"Number of passengers\")\n",
    "#Fix rotation in the x-ticks\n",
    "ax.set_xticklabels(ax.get_xmajorticklabels(), rotation=0)\n",
    "# Legend title\n",
    "ax.legend(title=\"Class\")\n",
    "\n"
   ]
  },
  {
   "cell_type": "markdown",
   "metadata": {},
   "source": [
    "The first chart above compares the the size of each socio economic class embarking from each port.\n",
    "Note that the majority of passengers from both Queenstown and Southampton are class 3, lower, while for\n",
    "Cherbourg we have a majority of class 1, upper.\n",
    "\n",
    "The second chart shows the same data but combined for each port. Again we see that passengers from Cherbourg seem to be more so upper than the others.\n"
   ]
  },
  {
   "cell_type": "markdown",
   "metadata": {},
   "source": [
    "### Follow up question: How did passengers from Cherbourg survival rate compare with that of the other two ports?\n",
    "\n",
    "From the data we can see passengers from Cherbourg were of a higher class but were they also more likely to \n",
    "survive than the other two ports, if so is this only because they have a higher count of upper class passengers?\n",
    "\n",
    "It would not be a surprise if upper class passengers have a higher survival rate than those of middle and lower based of the ship deck plans we can see that upper class passengers are roomed highest.\n",
    "https://www.encyclopedia-titanica.org/titanic-deckplans/"
   ]
  },
  {
   "cell_type": "code",
   "execution_count": 331,
   "metadata": {},
   "outputs": [
    {
     "name": "stdout",
     "output_type": "stream",
     "text": [
      "Survival rate among classes\n",
      "Pclass\n",
      "1    0.626168\n",
      "2    0.472826\n",
      "3    0.242363\n",
      "Name: Survived, dtype: float64\n"
     ]
    },
    {
     "data": {
      "image/png": "[encoded data removed]",
      "text/plain": [
       "<matplotlib.figure.Figure at 0x12941b438>"
      ]
     },
     "metadata": {},
     "output_type": "display_data"
    }
   ],
   "source": [
    "# Comparison of surival rates based on socio economic status.\n",
    "grouped_by_class = titanic_data.groupby(\"Pclass\")\n",
    "\n",
    "#get the means for relavent columns by port\n",
    "means = grouped_by_class[\"Survived\"].mean()\n",
    "print(\"Survival rate among classes\")\n",
    "print(means)\n",
    "\n",
    "renamed = titanic_data.copy()\n",
    "renamed['Survived'].replace({0:'Died', 1:'Survived'}, inplace=True)\n",
    "\n",
    "# graph survival status based on count\n",
    "g = sns.FacetGrid(renamed, col='Pclass')\n",
    "g.map(sns.countplot, \"Survived\")\n",
    "sns.plt.show()"
   ]
  },
  {
   "cell_type": "markdown",
   "metadata": {},
   "source": [
    "As expected we can see from the above we can see that first class passengers seemed to have the highest chance of surviving. Now lets see if them embarking from Cherboug made a difference to this or not?"
   ]
  },
  {
   "cell_type": "code",
   "execution_count": 332,
   "metadata": {},
   "outputs": [
    {
     "name": "stdout",
     "output_type": "stream",
     "text": [
      "Embarked\n",
      "Cherbourg      59\n",
      "Queenstown      1\n",
      "Southampton    74\n",
      "Name: Survived, dtype: int64\n",
      "Embarked\n",
      "Cherbourg      0.351190\n",
      "Queenstown     0.012987\n",
      "Southampton    0.114907\n",
      "dtype: float64\n"
     ]
    },
    {
     "data": {
      "text/plain": [
       "<matplotlib.axes._subplots.AxesSubplot at 0x1284fae10>"
      ]
     },
     "execution_count": 332,
     "metadata": {},
     "output_type": "execute_result"
    },
    {
     "data": {
      "image/png": "[encoded data removed]",
      "text/plain": [
       "<matplotlib.figure.Figure at 0x12875cda0>"
      ]
     },
     "metadata": {},
     "output_type": "display_data"
    }
   ],
   "source": [
    "#query only the surviving passengers and first class passengers.\n",
    "only_survived_first_class = titanic_data.loc[(titanic_data[\"Survived\"] == 1) & (titanic_data[\"Pclass\"] == 1)]\n",
    "\n",
    "#groubby port again\n",
    "only_survived_first_class_grouped_by_embarked = only_survived_first_class.groupby(\"Embarked\")\n",
    "\n",
    "#count of these results\n",
    "print(only_survived_first_class_grouped_by_embarked[\"Survived\"].count())\n",
    "\n",
    "#Get probability of survival for each port\n",
    "survival_probability_by_embarked = only_survived_first_class_grouped_by_embarked['Survived'].count().div(grouped_by_port.size())\n",
    "print(survival_probability_by_embarked)\n",
    "\n",
    "survival_probability_by_embarked.plot.bar()\n"
   ]
  },
  {
   "cell_type": "markdown",
   "metadata": {},
   "source": [
    "From the above we see that sample data indicates that the first class passengers from Cherbourg had a higher survival rate than the first class passengers from the other two ports.\n",
    "\n",
    "It is true that there are more survivers from Southampton but recall that total passengers from each port are not identical so to compare we can look at the ratio of survivors to total passengers in each port."
   ]
  },
  {
   "cell_type": "markdown",
   "metadata": {},
   "source": [
    "## Conclusion\n",
    "\n",
    "The data indicates that there is a noticable difference between the passengers that departed from 3 ports. In that, the passengers embarking from Cherboug not only consisted of more first class passengers and had a higher chance of survival.\n",
    "\n",
    "Note again that the data provided was not the entire population of Titanic passengers. \n",
    "\n",
    "Further questions:\n",
    "    - Reasons why first class passengers from Cherbourg had a higher survival rate?\n",
    "        - Possibly due to incomplete data.\n",
    "        - The cabins boarded by the first class passengers who embarked from Cherbourg were closer to life boats.\n",
    "        - The cabins boarded by the first class passengers who embarked from Cherbourg were notified earlier.\n",
    "       \n",
    "     "
   ]
  }
 ],
 "metadata": {
  "kernelspec": {
   "display_name": "Python [default]",
   "language": "python",
   "name": "python3"
  },
  "language_info": {
   "codemirror_mode": {
    "name": "ipython",
    "version": 3
   },
   "file_extension": ".py",
   "mimetype": "text/x-python",
   "name": "python",
   "nbconvert_exporter": "python",
   "pygments_lexer": "ipython3",
   "version": "3.6.1"
  }
 },
 "nbformat": 4,
 "nbformat_minor": 2
}
